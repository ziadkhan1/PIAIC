{
 "cells": [
  {
   "cell_type": "markdown",
   "id": "f137a700",
   "metadata": {},
   "source": [
    "## Task 1"
   ]
  },
  {
   "cell_type": "code",
   "execution_count": 96,
   "id": "5c8bcf04",
   "metadata": {},
   "outputs": [
    {
     "name": "stdout",
     "output_type": "stream",
     "text": [
      "['age', 'city', 'grade', 'mother_height', 'name', 'school', 'works_at']\n"
     ]
    }
   ],
   "source": [
    "class Father():\n",
    "    def __init__(self):\n",
    "        self.name = None\n",
    "        self.age = None\n",
    "        self.city = None\n",
    "        \n",
    "    def works_at(self):\n",
    "        print(f\"Works at {city}\")\n",
    "    \n",
    "class Mother():\n",
    "    def __init__(self):\n",
    "        self.height = None\n",
    "        self.eye_colour = None\n",
    "        \n",
    "    def mother_height(self):\n",
    "        print(self.height)\n",
    "\n",
    "class Child(Father, Mother):\n",
    "       def __init__(self):\n",
    "        super().__init__()\n",
    "        self.grade = None\n",
    "        self.school = None\n",
    "        \n",
    "c1 = Child()\n",
    "print([i for i in dir(c1) if \"__\" not in i])"
   ]
  },
  {
   "cell_type": "markdown",
   "id": "d89cfda2",
   "metadata": {},
   "source": [
    "## Task 2"
   ]
  },
  {
   "cell_type": "code",
   "execution_count": 109,
   "id": "f79e2700",
   "metadata": {},
   "outputs": [
    {
     "name": "stdout",
     "output_type": "stream",
     "text": [
      "Score1: 40\n",
      "Score2: 60\n"
     ]
    }
   ],
   "source": [
    "class TotalScore ():\n",
    "    \n",
    "    def __init__(self, score1 , score2):\n",
    "        self.score1 = score1\n",
    "        self.score2 = score2\n",
    "    \n",
    "    def __add__(self,other):\n",
    "        score1 = self.score1 + other.score1 \n",
    "        score2 = self.score2 + other.score2\n",
    "        Total = TotalScore(score1 , score2)\n",
    "        return Total\n",
    "    def __str__(self):\n",
    "        return f'''Score1: {self.score1}\n",
    "Score2: {self.score2}'''\n",
    "    \n",
    "t1 = TotalScore(10, 20)\n",
    "t2 = TotalScore(30, 40)\n",
    "\n",
    "print(t1 + t2)"
   ]
  },
  {
   "cell_type": "code",
   "execution_count": null,
   "id": "f4ea5355",
   "metadata": {},
   "outputs": [],
   "source": []
  }
 ],
 "metadata": {
  "kernelspec": {
   "display_name": "Python 3 (ipykernel)",
   "language": "python",
   "name": "python3"
  },
  "language_info": {
   "codemirror_mode": {
    "name": "ipython",
    "version": 3
   },
   "file_extension": ".py",
   "mimetype": "text/x-python",
   "name": "python",
   "nbconvert_exporter": "python",
   "pygments_lexer": "ipython3",
   "version": "3.9.12"
  }
 },
 "nbformat": 4,
 "nbformat_minor": 5
}
